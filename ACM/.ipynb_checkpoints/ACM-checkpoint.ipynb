{
 "cells": [
  {
   "cell_type": "code",
   "execution_count": 41,
   "id": "0d8d770b",
   "metadata": {},
   "outputs": [],
   "source": [
    "import pandas as pd\n",
    "import numpy as np\n",
    "import matplotlib.pyplot as plt\n",
    "import seaborn as sns\n",
    "import scipy.stats as stat\n",
    "from mca import MCA\n",
    "\n",
    "import warnings\n",
    "warnings.simplefilter(\"ignore\")"
   ]
  },
  {
   "cell_type": "code",
   "execution_count": 73,
   "id": "8532ab82",
   "metadata": {},
   "outputs": [
    {
     "data": {
      "text/html": [
       "<div>\n",
       "<style scoped>\n",
       "    .dataframe tbody tr th:only-of-type {\n",
       "        vertical-align: middle;\n",
       "    }\n",
       "\n",
       "    .dataframe tbody tr th {\n",
       "        vertical-align: top;\n",
       "    }\n",
       "\n",
       "    .dataframe thead th {\n",
       "        text-align: right;\n",
       "    }\n",
       "</style>\n",
       "<table border=\"1\" class=\"dataframe\">\n",
       "  <thead>\n",
       "    <tr style=\"text-align: right;\">\n",
       "      <th></th>\n",
       "      <th>Taille</th>\n",
       "      <th>Poids</th>\n",
       "      <th>Velocite</th>\n",
       "      <th>Intelligence</th>\n",
       "      <th>Affection</th>\n",
       "      <th>Agressivite</th>\n",
       "      <th>Fonction</th>\n",
       "      <th>Cote</th>\n",
       "    </tr>\n",
       "    <tr>\n",
       "      <th>Chien</th>\n",
       "      <th></th>\n",
       "      <th></th>\n",
       "      <th></th>\n",
       "      <th></th>\n",
       "      <th></th>\n",
       "      <th></th>\n",
       "      <th></th>\n",
       "      <th></th>\n",
       "    </tr>\n",
       "  </thead>\n",
       "  <tbody>\n",
       "    <tr>\n",
       "      <th>Beauceron</th>\n",
       "      <td>Taille++</td>\n",
       "      <td>Poids+</td>\n",
       "      <td>Veloc++</td>\n",
       "      <td>Intell+</td>\n",
       "      <td>Affec+</td>\n",
       "      <td>Agress+</td>\n",
       "      <td>utilite</td>\n",
       "      <td>2.5</td>\n",
       "    </tr>\n",
       "    <tr>\n",
       "      <th>Basset</th>\n",
       "      <td>Taille-</td>\n",
       "      <td>Poids-</td>\n",
       "      <td>Veloc-</td>\n",
       "      <td>Intell-</td>\n",
       "      <td>Affec-</td>\n",
       "      <td>Agress+</td>\n",
       "      <td>chasse</td>\n",
       "      <td>4.5</td>\n",
       "    </tr>\n",
       "    <tr>\n",
       "      <th>Berger All</th>\n",
       "      <td>Taille++</td>\n",
       "      <td>Poids+</td>\n",
       "      <td>Veloc++</td>\n",
       "      <td>Intell++</td>\n",
       "      <td>Affec+</td>\n",
       "      <td>Agress+</td>\n",
       "      <td>utilite</td>\n",
       "      <td>3.0</td>\n",
       "    </tr>\n",
       "    <tr>\n",
       "      <th>Boxer</th>\n",
       "      <td>Taille+</td>\n",
       "      <td>Poids+</td>\n",
       "      <td>Veloc+</td>\n",
       "      <td>Intell+</td>\n",
       "      <td>Affec+</td>\n",
       "      <td>Agress+</td>\n",
       "      <td>compagnie</td>\n",
       "      <td>2.0</td>\n",
       "    </tr>\n",
       "    <tr>\n",
       "      <th>Bull-Dog</th>\n",
       "      <td>Taille-</td>\n",
       "      <td>Poids-</td>\n",
       "      <td>Veloc-</td>\n",
       "      <td>Intell+</td>\n",
       "      <td>Affec+</td>\n",
       "      <td>Agress-</td>\n",
       "      <td>compagnie</td>\n",
       "      <td>4.5</td>\n",
       "    </tr>\n",
       "  </tbody>\n",
       "</table>\n",
       "</div>"
      ],
      "text/plain": [
       "              Taille   Poids Velocite Intelligence Affection Agressivite  \\\n",
       "Chien                                                                      \n",
       "Beauceron   Taille++  Poids+  Veloc++      Intell+    Affec+     Agress+   \n",
       "Basset       Taille-  Poids-   Veloc-      Intell-    Affec-     Agress+   \n",
       "Berger All  Taille++  Poids+  Veloc++     Intell++    Affec+     Agress+   \n",
       "Boxer        Taille+  Poids+   Veloc+      Intell+    Affec+     Agress+   \n",
       "Bull-Dog     Taille-  Poids-   Veloc-      Intell+    Affec+     Agress-   \n",
       "\n",
       "             Fonction  Cote  \n",
       "Chien                        \n",
       "Beauceron     utilite   2.5  \n",
       "Basset         chasse   4.5  \n",
       "Berger All    utilite   3.0  \n",
       "Boxer       compagnie   2.0  \n",
       "Bull-Dog    compagnie   4.5  "
      ]
     },
     "execution_count": 73,
     "metadata": {},
     "output_type": "execute_result"
    }
   ],
   "source": [
    "df_ = pd.read_excel('race_chien.xlsx',index_col=0)\n",
    "df_.head()"
   ]
  },
  {
   "cell_type": "code",
   "execution_count": 74,
   "id": "8c422135",
   "metadata": {},
   "outputs": [
    {
     "data": {
      "text/plain": [
       "(27, 8)"
      ]
     },
     "execution_count": 74,
     "metadata": {},
     "output_type": "execute_result"
    }
   ],
   "source": [
    "df_.shape"
   ]
  },
  {
   "cell_type": "code",
   "execution_count": 75,
   "id": "e8489d75",
   "metadata": {},
   "outputs": [
    {
     "data": {
      "text/plain": [
       "(27, 6)"
      ]
     },
     "execution_count": 75,
     "metadata": {},
     "output_type": "execute_result"
    }
   ],
   "source": [
    "df = df_.drop(['Fonction','Cote'], axis=1)\n",
    "df.shape"
   ]
  },
  {
   "cell_type": "code",
   "execution_count": 76,
   "id": "b6a895b6",
   "metadata": {},
   "outputs": [
    {
     "name": "stdout",
     "output_type": "stream",
     "text": [
      "Total Individus : 27\n",
      "Total Variables : 6\n"
     ]
    }
   ],
   "source": [
    "I, J = df.shape[0], df.shape[1]\n",
    "print('Total Individus : {}\\nTotal Variables : {}'.format(I, J))"
   ]
  },
  {
   "cell_type": "code",
   "execution_count": 77,
   "id": "eb4dd128",
   "metadata": {},
   "outputs": [
    {
     "data": {
      "text/html": [
       "<div>\n",
       "<style scoped>\n",
       "    .dataframe tbody tr th:only-of-type {\n",
       "        vertical-align: middle;\n",
       "    }\n",
       "\n",
       "    .dataframe tbody tr th {\n",
       "        vertical-align: top;\n",
       "    }\n",
       "\n",
       "    .dataframe thead th {\n",
       "        text-align: right;\n",
       "    }\n",
       "</style>\n",
       "<table border=\"1\" class=\"dataframe\">\n",
       "  <thead>\n",
       "    <tr style=\"text-align: right;\">\n",
       "      <th></th>\n",
       "      <th>Taille</th>\n",
       "      <th>Poids</th>\n",
       "      <th>Velocite</th>\n",
       "      <th>Intelligence</th>\n",
       "      <th>Affection</th>\n",
       "      <th>Agressivite</th>\n",
       "    </tr>\n",
       "  </thead>\n",
       "  <tbody>\n",
       "    <tr>\n",
       "      <th>count</th>\n",
       "      <td>27</td>\n",
       "      <td>27</td>\n",
       "      <td>27</td>\n",
       "      <td>27</td>\n",
       "      <td>27</td>\n",
       "      <td>27</td>\n",
       "    </tr>\n",
       "    <tr>\n",
       "      <th>unique</th>\n",
       "      <td>3</td>\n",
       "      <td>3</td>\n",
       "      <td>3</td>\n",
       "      <td>3</td>\n",
       "      <td>2</td>\n",
       "      <td>2</td>\n",
       "    </tr>\n",
       "    <tr>\n",
       "      <th>top</th>\n",
       "      <td>Taille++</td>\n",
       "      <td>Poids+</td>\n",
       "      <td>Veloc-</td>\n",
       "      <td>Intell+</td>\n",
       "      <td>Affec+</td>\n",
       "      <td>Agress-</td>\n",
       "    </tr>\n",
       "    <tr>\n",
       "      <th>freq</th>\n",
       "      <td>15</td>\n",
       "      <td>14</td>\n",
       "      <td>10</td>\n",
       "      <td>13</td>\n",
       "      <td>14</td>\n",
       "      <td>14</td>\n",
       "    </tr>\n",
       "  </tbody>\n",
       "</table>\n",
       "</div>"
      ],
      "text/plain": [
       "          Taille   Poids Velocite Intelligence Affection Agressivite\n",
       "count         27      27       27           27        27          27\n",
       "unique         3       3        3            3         2           2\n",
       "top     Taille++  Poids+   Veloc-      Intell+    Affec+     Agress-\n",
       "freq          15      14       10           13        14          14"
      ]
     },
     "execution_count": 77,
     "metadata": {},
     "output_type": "execute_result"
    }
   ],
   "source": [
    "# Statistiques descriptives\n",
    "df.describe(include=[object])"
   ]
  },
  {
   "cell_type": "code",
   "execution_count": 78,
   "id": "6b7ffd61",
   "metadata": {},
   "outputs": [],
   "source": [
    "# for i,name in enumerate(df.columns):\n",
    "#     plt.subplot(2, 3, i+1)\n",
    "#     df[name].value_counts().plot.bar(figsize=(12,8))\n",
    "#     plt.title(name)\n",
    "#     plt.xticks(rotation= 0)\n",
    "#     plt.tight_layout()\n",
    "#     plt.suptitle(\"Diagramme en barres\", fontsize=12)\n",
    "# plt.show()"
   ]
  },
  {
   "cell_type": "markdown",
   "id": "d2393c19",
   "metadata": {},
   "source": [
    "***Etude du croisement des variables prises 2 à 2 (Test du Khi-deux d'indépendance avec sa pvalue)***"
   ]
  },
  {
   "cell_type": "code",
   "execution_count": 79,
   "id": "6e7ee17a",
   "metadata": {},
   "outputs": [
    {
     "name": "stdout",
     "output_type": "stream",
     "text": [
      "------------- KHI-2 --------------\n"
     ]
    },
    {
     "data": {
      "text/html": [
       "<div>\n",
       "<style scoped>\n",
       "    .dataframe tbody tr th:only-of-type {\n",
       "        vertical-align: middle;\n",
       "    }\n",
       "\n",
       "    .dataframe tbody tr th {\n",
       "        vertical-align: top;\n",
       "    }\n",
       "\n",
       "    .dataframe thead th {\n",
       "        text-align: right;\n",
       "    }\n",
       "</style>\n",
       "<table border=\"1\" class=\"dataframe\">\n",
       "  <thead>\n",
       "    <tr style=\"text-align: right;\">\n",
       "      <th></th>\n",
       "      <th>Taille</th>\n",
       "      <th>Poids</th>\n",
       "      <th>Velocite</th>\n",
       "      <th>Intelligence</th>\n",
       "      <th>Affection</th>\n",
       "      <th>Agressivite</th>\n",
       "    </tr>\n",
       "  </thead>\n",
       "  <tbody>\n",
       "    <tr>\n",
       "      <th>Taille</th>\n",
       "      <td>0.0</td>\n",
       "      <td>25.329</td>\n",
       "      <td>15.891</td>\n",
       "      <td>3.608</td>\n",
       "      <td>13.954</td>\n",
       "      <td>2.051</td>\n",
       "    </tr>\n",
       "    <tr>\n",
       "      <th>Poids</th>\n",
       "      <td>0.0</td>\n",
       "      <td>0.000</td>\n",
       "      <td>18.470</td>\n",
       "      <td>1.356</td>\n",
       "      <td>9.476</td>\n",
       "      <td>2.552</td>\n",
       "    </tr>\n",
       "    <tr>\n",
       "      <th>Velocite</th>\n",
       "      <td>0.0</td>\n",
       "      <td>0.000</td>\n",
       "      <td>0.000</td>\n",
       "      <td>3.156</td>\n",
       "      <td>2.967</td>\n",
       "      <td>0.575</td>\n",
       "    </tr>\n",
       "    <tr>\n",
       "      <th>Intelligence</th>\n",
       "      <td>0.0</td>\n",
       "      <td>0.000</td>\n",
       "      <td>0.000</td>\n",
       "      <td>0.000</td>\n",
       "      <td>3.891</td>\n",
       "      <td>1.157</td>\n",
       "    </tr>\n",
       "    <tr>\n",
       "      <th>Affection</th>\n",
       "      <td>0.0</td>\n",
       "      <td>0.000</td>\n",
       "      <td>0.000</td>\n",
       "      <td>0.000</td>\n",
       "      <td>0.000</td>\n",
       "      <td>0.915</td>\n",
       "    </tr>\n",
       "    <tr>\n",
       "      <th>Agressivite</th>\n",
       "      <td>0.0</td>\n",
       "      <td>0.000</td>\n",
       "      <td>0.000</td>\n",
       "      <td>0.000</td>\n",
       "      <td>0.000</td>\n",
       "      <td>0.000</td>\n",
       "    </tr>\n",
       "  </tbody>\n",
       "</table>\n",
       "</div>"
      ],
      "text/plain": [
       "              Taille   Poids  Velocite  Intelligence  Affection  Agressivite\n",
       "Taille           0.0  25.329    15.891         3.608     13.954        2.051\n",
       "Poids            0.0   0.000    18.470         1.356      9.476        2.552\n",
       "Velocite         0.0   0.000     0.000         3.156      2.967        0.575\n",
       "Intelligence     0.0   0.000     0.000         0.000      3.891        1.157\n",
       "Affection        0.0   0.000     0.000         0.000      0.000        0.915\n",
       "Agressivite      0.0   0.000     0.000         0.000      0.000        0.000"
      ]
     },
     "execution_count": 79,
     "metadata": {},
     "output_type": "execute_result"
    }
   ],
   "source": [
    "chi2 = pd.DataFrame(np.zeros(shape=(J,J),dtype=float),index=df.columns, columns = df.columns)\n",
    "pvalue = pd.DataFrame(np.zeros(shape=(J,J),dtype=float),index=df.columns, columns = df.columns)\n",
    "for i in range(J):\n",
    "    for j in range(i+1,J):\n",
    "        tab = pd.crosstab(df.iloc[:,i],df.iloc[:,j])\n",
    "        chi = stat.chi2_contingency(tab)\n",
    "        chi2.iloc[i,j] = chi[0]\n",
    "        pvalue.iloc[i,j]=chi[1]\n",
    "\n",
    "print('------------- KHI-2 --------------')\n",
    "chi2.round(3)"
   ]
  },
  {
   "cell_type": "code",
   "execution_count": 80,
   "id": "b01d2fe8",
   "metadata": {},
   "outputs": [
    {
     "name": "stdout",
     "output_type": "stream",
     "text": [
      "------------- P-Value --------------\n"
     ]
    },
    {
     "data": {
      "text/html": [
       "<div>\n",
       "<style scoped>\n",
       "    .dataframe tbody tr th:only-of-type {\n",
       "        vertical-align: middle;\n",
       "    }\n",
       "\n",
       "    .dataframe tbody tr th {\n",
       "        vertical-align: top;\n",
       "    }\n",
       "\n",
       "    .dataframe thead th {\n",
       "        text-align: right;\n",
       "    }\n",
       "</style>\n",
       "<table border=\"1\" class=\"dataframe\">\n",
       "  <thead>\n",
       "    <tr style=\"text-align: right;\">\n",
       "      <th></th>\n",
       "      <th>Taille</th>\n",
       "      <th>Poids</th>\n",
       "      <th>Velocite</th>\n",
       "      <th>Intelligence</th>\n",
       "      <th>Affection</th>\n",
       "      <th>Agressivite</th>\n",
       "    </tr>\n",
       "  </thead>\n",
       "  <tbody>\n",
       "    <tr>\n",
       "      <th>Taille</th>\n",
       "      <td>0.0</td>\n",
       "      <td>0.0</td>\n",
       "      <td>0.003</td>\n",
       "      <td>0.462</td>\n",
       "      <td>0.001</td>\n",
       "      <td>0.359</td>\n",
       "    </tr>\n",
       "    <tr>\n",
       "      <th>Poids</th>\n",
       "      <td>0.0</td>\n",
       "      <td>0.0</td>\n",
       "      <td>0.001</td>\n",
       "      <td>0.852</td>\n",
       "      <td>0.009</td>\n",
       "      <td>0.279</td>\n",
       "    </tr>\n",
       "    <tr>\n",
       "      <th>Velocite</th>\n",
       "      <td>0.0</td>\n",
       "      <td>0.0</td>\n",
       "      <td>0.000</td>\n",
       "      <td>0.532</td>\n",
       "      <td>0.227</td>\n",
       "      <td>0.750</td>\n",
       "    </tr>\n",
       "    <tr>\n",
       "      <th>Intelligence</th>\n",
       "      <td>0.0</td>\n",
       "      <td>0.0</td>\n",
       "      <td>0.000</td>\n",
       "      <td>0.000</td>\n",
       "      <td>0.143</td>\n",
       "      <td>0.561</td>\n",
       "    </tr>\n",
       "    <tr>\n",
       "      <th>Affection</th>\n",
       "      <td>0.0</td>\n",
       "      <td>0.0</td>\n",
       "      <td>0.000</td>\n",
       "      <td>0.000</td>\n",
       "      <td>0.000</td>\n",
       "      <td>0.339</td>\n",
       "    </tr>\n",
       "    <tr>\n",
       "      <th>Agressivite</th>\n",
       "      <td>0.0</td>\n",
       "      <td>0.0</td>\n",
       "      <td>0.000</td>\n",
       "      <td>0.000</td>\n",
       "      <td>0.000</td>\n",
       "      <td>0.000</td>\n",
       "    </tr>\n",
       "  </tbody>\n",
       "</table>\n",
       "</div>"
      ],
      "text/plain": [
       "              Taille  Poids  Velocite  Intelligence  Affection  Agressivite\n",
       "Taille           0.0    0.0     0.003         0.462      0.001        0.359\n",
       "Poids            0.0    0.0     0.001         0.852      0.009        0.279\n",
       "Velocite         0.0    0.0     0.000         0.532      0.227        0.750\n",
       "Intelligence     0.0    0.0     0.000         0.000      0.143        0.561\n",
       "Affection        0.0    0.0     0.000         0.000      0.000        0.339\n",
       "Agressivite      0.0    0.0     0.000         0.000      0.000        0.000"
      ]
     },
     "execution_count": 80,
     "metadata": {},
     "output_type": "execute_result"
    }
   ],
   "source": [
    "print('------------- P-Value --------------')\n",
    "pvalue.round(3)"
   ]
  },
  {
   "cell_type": "markdown",
   "id": "9373fa26",
   "metadata": {},
   "source": [
    "*Les variables **taille, poids et vélocité** sont très liés entre eux. Les variables **intelligence et agressivité sont indépendantes entre elles et des autres variables**. L’ACM va permettre, entre autres, de retrouver ces configurations types en visualisant les races canines et les modalités.*"
   ]
  },
  {
   "cell_type": "markdown",
   "id": "d173b96f",
   "metadata": {},
   "source": [
    "**Conception du tableau disjonctif complet (TDC)**"
   ]
  },
  {
   "cell_type": "markdown",
   "id": "07d53f8c",
   "metadata": {},
   "source": [
    "Dans le TDC, les lignes sont les individus et les colonnes sont les modalités des variables qualitatives"
   ]
  },
  {
   "cell_type": "code",
   "execution_count": 81,
   "id": "f2f4dd89",
   "metadata": {},
   "outputs": [
    {
     "data": {
      "text/html": [
       "<div>\n",
       "<style scoped>\n",
       "    .dataframe tbody tr th:only-of-type {\n",
       "        vertical-align: middle;\n",
       "    }\n",
       "\n",
       "    .dataframe tbody tr th {\n",
       "        vertical-align: top;\n",
       "    }\n",
       "\n",
       "    .dataframe thead th {\n",
       "        text-align: right;\n",
       "    }\n",
       "</style>\n",
       "<table border=\"1\" class=\"dataframe\">\n",
       "  <thead>\n",
       "    <tr style=\"text-align: right;\">\n",
       "      <th></th>\n",
       "      <th>Taille+</th>\n",
       "      <th>Taille++</th>\n",
       "      <th>Taille-</th>\n",
       "      <th>Poids+</th>\n",
       "      <th>Poids++</th>\n",
       "      <th>Poids-</th>\n",
       "      <th>Veloc+</th>\n",
       "      <th>Veloc++</th>\n",
       "      <th>Veloc-</th>\n",
       "      <th>Intell+</th>\n",
       "      <th>Intell++</th>\n",
       "      <th>Intell-</th>\n",
       "      <th>Affec+</th>\n",
       "      <th>Affec-</th>\n",
       "      <th>Agress+</th>\n",
       "      <th>Agress-</th>\n",
       "    </tr>\n",
       "    <tr>\n",
       "      <th>Chien</th>\n",
       "      <th></th>\n",
       "      <th></th>\n",
       "      <th></th>\n",
       "      <th></th>\n",
       "      <th></th>\n",
       "      <th></th>\n",
       "      <th></th>\n",
       "      <th></th>\n",
       "      <th></th>\n",
       "      <th></th>\n",
       "      <th></th>\n",
       "      <th></th>\n",
       "      <th></th>\n",
       "      <th></th>\n",
       "      <th></th>\n",
       "      <th></th>\n",
       "    </tr>\n",
       "  </thead>\n",
       "  <tbody>\n",
       "    <tr>\n",
       "      <th>Beauceron</th>\n",
       "      <td>0</td>\n",
       "      <td>1</td>\n",
       "      <td>0</td>\n",
       "      <td>1</td>\n",
       "      <td>0</td>\n",
       "      <td>0</td>\n",
       "      <td>0</td>\n",
       "      <td>1</td>\n",
       "      <td>0</td>\n",
       "      <td>1</td>\n",
       "      <td>0</td>\n",
       "      <td>0</td>\n",
       "      <td>1</td>\n",
       "      <td>0</td>\n",
       "      <td>1</td>\n",
       "      <td>0</td>\n",
       "    </tr>\n",
       "    <tr>\n",
       "      <th>Basset</th>\n",
       "      <td>0</td>\n",
       "      <td>0</td>\n",
       "      <td>1</td>\n",
       "      <td>0</td>\n",
       "      <td>0</td>\n",
       "      <td>1</td>\n",
       "      <td>0</td>\n",
       "      <td>0</td>\n",
       "      <td>1</td>\n",
       "      <td>0</td>\n",
       "      <td>0</td>\n",
       "      <td>1</td>\n",
       "      <td>0</td>\n",
       "      <td>1</td>\n",
       "      <td>1</td>\n",
       "      <td>0</td>\n",
       "    </tr>\n",
       "  </tbody>\n",
       "</table>\n",
       "</div>"
      ],
      "text/plain": [
       "           Taille+  Taille++  Taille-  Poids+  Poids++  Poids-  Veloc+  \\\n",
       "Chien                                                                    \n",
       "Beauceron        0         1        0       1        0       0       0   \n",
       "Basset           0         0        1       0        0       1       0   \n",
       "\n",
       "           Veloc++  Veloc-  Intell+  Intell++  Intell-  Affec+  Affec-  \\\n",
       "Chien                                                                    \n",
       "Beauceron        1       0        1         0        0       1       0   \n",
       "Basset           0       1        0         0        1       0       1   \n",
       "\n",
       "           Agress+  Agress-  \n",
       "Chien                        \n",
       "Beauceron        1        0  \n",
       "Basset           1        0  "
      ]
     },
     "execution_count": 81,
     "metadata": {},
     "output_type": "execute_result"
    }
   ],
   "source": [
    "tdc = pd.get_dummies(df, prefix=\"\",prefix_sep=\"\")\n",
    "tdc.head(2)"
   ]
  },
  {
   "cell_type": "markdown",
   "id": "83a80f3e",
   "metadata": {},
   "source": [
    "L'ACM va étudier la variabilité des individus, c'est-à-dire les ressemblances et différences entre individus <br>\n",
    "Pour ce faire, l'ACM va extraire les différentes dimensions de variabilités avant de les décrire par les variables (modalités).<br>\n",
    "<br>\n",
    "Du point des varaibles, l'ACM va s'interesser aux associations entre modalités"
   ]
  },
  {
   "cell_type": "markdown",
   "id": "6418be6f",
   "metadata": {},
   "source": [
    "### Mise en Oeuvre de l'ACM"
   ]
  },
  {
   "cell_type": "code",
   "execution_count": 82,
   "id": "324ed474",
   "metadata": {},
   "outputs": [
    {
     "data": {
      "text/html": [
       "<div>\n",
       "<style scoped>\n",
       "    .dataframe tbody tr th:only-of-type {\n",
       "        vertical-align: middle;\n",
       "    }\n",
       "\n",
       "    .dataframe tbody tr th {\n",
       "        vertical-align: top;\n",
       "    }\n",
       "\n",
       "    .dataframe thead th {\n",
       "        text-align: right;\n",
       "    }\n",
       "</style>\n",
       "<table border=\"1\" class=\"dataframe\">\n",
       "  <thead>\n",
       "    <tr style=\"text-align: right;\">\n",
       "      <th></th>\n",
       "      <th>Valeur propre</th>\n",
       "      <th>Pourcentage d'inertie</th>\n",
       "      <th>Pourcentage d'inertie cumulée</th>\n",
       "    </tr>\n",
       "    <tr>\n",
       "      <th>Dimension</th>\n",
       "      <th></th>\n",
       "      <th></th>\n",
       "      <th></th>\n",
       "    </tr>\n",
       "  </thead>\n",
       "  <tbody>\n",
       "    <tr>\n",
       "      <th>Dim.1</th>\n",
       "      <td>0.482</td>\n",
       "      <td>28.896</td>\n",
       "      <td>28.896</td>\n",
       "    </tr>\n",
       "    <tr>\n",
       "      <th>Dim.2</th>\n",
       "      <td>0.385</td>\n",
       "      <td>23.084</td>\n",
       "      <td>51.981</td>\n",
       "    </tr>\n",
       "    <tr>\n",
       "      <th>Dim.3</th>\n",
       "      <td>0.211</td>\n",
       "      <td>12.657</td>\n",
       "      <td>64.638</td>\n",
       "    </tr>\n",
       "    <tr>\n",
       "      <th>Dim.4</th>\n",
       "      <td>0.158</td>\n",
       "      <td>9.453</td>\n",
       "      <td>74.091</td>\n",
       "    </tr>\n",
       "    <tr>\n",
       "      <th>Dim.5</th>\n",
       "      <td>0.150</td>\n",
       "      <td>9.008</td>\n",
       "      <td>83.099</td>\n",
       "    </tr>\n",
       "    <tr>\n",
       "      <th>Dim.6</th>\n",
       "      <td>0.123</td>\n",
       "      <td>7.398</td>\n",
       "      <td>90.497</td>\n",
       "    </tr>\n",
       "    <tr>\n",
       "      <th>Dim.7</th>\n",
       "      <td>0.081</td>\n",
       "      <td>4.888</td>\n",
       "      <td>95.385</td>\n",
       "    </tr>\n",
       "    <tr>\n",
       "      <th>Dim.8</th>\n",
       "      <td>0.046</td>\n",
       "      <td>2.740</td>\n",
       "      <td>98.125</td>\n",
       "    </tr>\n",
       "    <tr>\n",
       "      <th>Dim.9</th>\n",
       "      <td>0.024</td>\n",
       "      <td>1.413</td>\n",
       "      <td>99.537</td>\n",
       "    </tr>\n",
       "    <tr>\n",
       "      <th>Dim.10</th>\n",
       "      <td>0.008</td>\n",
       "      <td>0.463</td>\n",
       "      <td>100.000</td>\n",
       "    </tr>\n",
       "  </tbody>\n",
       "</table>\n",
       "</div>"
      ],
      "text/plain": [
       "           Valeur propre  Pourcentage d'inertie  Pourcentage d'inertie cumulée\n",
       "Dimension                                                                     \n",
       "Dim.1              0.482                 28.896                         28.896\n",
       "Dim.2              0.385                 23.084                         51.981\n",
       "Dim.3              0.211                 12.657                         64.638\n",
       "Dim.4              0.158                  9.453                         74.091\n",
       "Dim.5              0.150                  9.008                         83.099\n",
       "Dim.6              0.123                  7.398                         90.497\n",
       "Dim.7              0.081                  4.888                         95.385\n",
       "Dim.8              0.046                  2.740                         98.125\n",
       "Dim.9              0.024                  1.413                         99.537\n",
       "Dim.10             0.008                  0.463                        100.000"
      ]
     },
     "execution_count": 82,
     "metadata": {},
     "output_type": "execute_result"
    }
   ],
   "source": [
    "mca = MCA(tdc, ncols=tdc.shape[1], benzecri=False)\n",
    "# mca.L => Récupéraration des valeurs propres\n",
    "\n",
    "percent_eigen = np.array([100*x/sum(mca.L) for x in mca.L])\n",
    "\n",
    "cumpercent = np.cumsum(percent_eigen)\n",
    "columns = ['Valeur propre','Pourcentage d\\'inertie','Pourcentage d\\'inertie cumulée']\n",
    "index = ['Dim.{}'.format(x+1) for x in range(percent_eigen.shape[0])]\n",
    "eigen_tab = pd.DataFrame(np.transpose([mca.L,percent_eigen,cumpercent]),index=index,columns = columns)\n",
    "eigen_tab.index.name = 'Dimension'\n",
    "# Affichage\n",
    "eigen_tab.round(3)"
   ]
  },
  {
   "cell_type": "markdown",
   "id": "95c9091a",
   "metadata": {},
   "source": [
    "La représentation la plus naturelle de l'ACM est de passer le TDC."
   ]
  },
  {
   "cell_type": "markdown",
   "id": "8c165adf",
   "metadata": {},
   "source": [
    "#### ACM via AFC sur le TDC"
   ]
  },
  {
   "cell_type": "code",
   "execution_count": 84,
   "id": "4128cd92",
   "metadata": {},
   "outputs": [
    {
     "data": {
      "text/html": [
       "<div>\n",
       "<style scoped>\n",
       "    .dataframe tbody tr th:only-of-type {\n",
       "        vertical-align: middle;\n",
       "    }\n",
       "\n",
       "    .dataframe tbody tr th {\n",
       "        vertical-align: top;\n",
       "    }\n",
       "\n",
       "    .dataframe thead th {\n",
       "        text-align: right;\n",
       "    }\n",
       "</style>\n",
       "<table border=\"1\" class=\"dataframe\">\n",
       "  <thead>\n",
       "    <tr style=\"text-align: right;\">\n",
       "      <th></th>\n",
       "      <th>1</th>\n",
       "      <th>2</th>\n",
       "      <th>3</th>\n",
       "      <th>4</th>\n",
       "      <th>5</th>\n",
       "      <th>6</th>\n",
       "      <th>7</th>\n",
       "      <th>8</th>\n",
       "      <th>9</th>\n",
       "      <th>10</th>\n",
       "      <th>11</th>\n",
       "      <th>12</th>\n",
       "      <th>13</th>\n",
       "      <th>14</th>\n",
       "      <th>15</th>\n",
       "    </tr>\n",
       "  </thead>\n",
       "  <tbody>\n",
       "    <tr>\n",
       "      <th>lambda</th>\n",
       "      <td>0.482</td>\n",
       "      <td>0.385</td>\n",
       "      <td>0.211</td>\n",
       "      <td>0.158</td>\n",
       "      <td>0.15</td>\n",
       "      <td>0.123</td>\n",
       "      <td>0.081</td>\n",
       "      <td>0.046</td>\n",
       "      <td>0.024</td>\n",
       "      <td>0.008</td>\n",
       "      <td>0.0</td>\n",
       "      <td>0.0</td>\n",
       "      <td>0.0</td>\n",
       "      <td>0.0</td>\n",
       "      <td>0.0</td>\n",
       "    </tr>\n",
       "  </tbody>\n",
       "</table>\n",
       "</div>"
      ],
      "text/plain": [
       "           1      2      3      4     5      6      7      8      9      10  \\\n",
       "lambda  0.482  0.385  0.211  0.158  0.15  0.123  0.081  0.046  0.024  0.008   \n",
       "\n",
       "         11   12   13   14   15  \n",
       "lambda  0.0  0.0  0.0  0.0  0.0  "
      ]
     },
     "execution_count": 84,
     "metadata": {},
     "output_type": "execute_result"
    }
   ],
   "source": [
    "# ACM via une AFC sur le TDC\n",
    "from fanalysis.ca import CA\n",
    "mcaModelCA1 = CA(row_labels=tdc.index.values,col_labels=tdc.columns.values)\n",
    "mcaModelCA1.fit(tdc.values)\n",
    "# Valeurs propres\n",
    "EigenCA1 = pd.DataFrame(mcaModelCA1.eig_.T[:,0],columns = ['lambda'])\n",
    "EigenCA1.index +=1\n",
    "EigenCA1.T.round(3)"
   ]
  },
  {
   "cell_type": "markdown",
   "id": "787a92de",
   "metadata": {},
   "source": [
    "##### Fonction de visualisation des valeurs propres"
   ]
  },
  {
   "cell_type": "code",
   "execution_count": 86,
   "id": "d58c6d99",
   "metadata": {},
   "outputs": [
    {
     "data": {
      "image/png": "[encoded data removed]",
      "text/plain": [
       "<Figure size 720x432 with 1 Axes>"
      ]
     },
     "metadata": {
      "needs_background": "light"
     },
     "output_type": "display_data"
    }
   ],
   "source": [
    "def screeplot(data,figsize=None):\n",
    "    p = data.shape[0]\n",
    "    fig,axes = plt.subplots(figsize = figsize); axes.grid()\n",
    "    axes.set_xlabel('Dimensions',fontsize=14)\n",
    "    axes.set_title('Scree plot',fontsize=14)\n",
    "    axes.set_xticks([x for x in range(1,p+1)])\n",
    "    eigen = data.iloc[:,0].round(2)\n",
    "    ylim = np.max(eigen)+0.05\n",
    "    axes.set_ylim(0,ylim)\n",
    "    axes.bar(np.arange(1,p+1),eigen.values,width=0.9)\n",
    "    axes.plot(np.arange(1,p+1),eigen.values,c=\"black\")\n",
    "    axes.set_ylabel('Valeurs propres',fontsize=13)\n",
    "\n",
    "    for i in range(p):\n",
    "        axes.scatter(i+1,eigen.values[i],color='black',alpha=1)\n",
    "        axes.text(i+.75,0.01+eigen.values[i],str(eigen.values[i]), color='black')\n",
    "        \n",
    "# Affichage\n",
    "screeplot(eigen_tab, figsize=(10, 6))"
   ]
  },
  {
   "cell_type": "markdown",
   "id": "b2e898b5",
   "metadata": {},
   "source": [
    "### Nuage des individus"
   ]
  },
  {
   "cell_type": "code",
   "execution_count": 95,
   "id": "7c07477b",
   "metadata": {},
   "outputs": [
    {
     "data": {
      "image/png": "[encoded data removed]",
      "text/plain": [
       "<Figure size 864x432 with 1 Axes>"
      ]
     },
     "metadata": {
      "needs_background": "light"
     },
     "output_type": "display_data"
    }
   ],
   "source": [
    "# fs_r => Coordonnées Factorielles\n",
    "coord_i = pd.DataFrame(mca.fs_r(N=percent_eigen.shape[0]), index=df.index, columns=index)\n",
    "\n",
    "def mca_plot_i(df, eigen, axe_i, axe_j, title, figsize=None):\n",
    "    try:\n",
    "        if axe_i==axe_j:\n",
    "            raise ValueError('Erreur: axei doit être différent de axej.')\n",
    "        elif axe_i>axe_j:\n",
    "            raise ValueError('Erreur: axei doit être inférieur à axej.')\n",
    "        elif axe_i<0 or axe_j<0:\n",
    "            msg = 'Erreur: les valeurs des axes doivent être positives ou nulles.'\n",
    "            raise ValueError(msg)\n",
    "        else:\n",
    "            n = df.shape[0]\n",
    "            percent = np.array([100*x/sum(eigen) for x in eigen])\n",
    "            dim_i, dim_j = round(percent[axe_i],2), round(percent[axe_j],2)\n",
    "            fig, axes = plt.subplots(figsize = figsize)\n",
    "            axes.grid()\n",
    "            axes.axis([-1.5,1.5,-1.5,1.5])\n",
    "            axes.set_title(title)\n",
    "            axes.set_xlabel(f\"Dim.{1+axe_i} ({dim_i}%)\")\n",
    "            axes.set_ylabel(f\"Dim.{1+axe_j} ({dim_j}%)\")\n",
    "            for i in range(n):\n",
    "                plt.scatter(df.iloc[i,axe_i], df.iloc[i,axe_j],c = \"black\", alpha = 1)\n",
    "                axes.text(df.iloc[i,axe_i], df.iloc[i,axe_j], df.index[i],color = \"black\", fontsize = 11)\n",
    "            plt.axhline(0, color='blue',linestyle=\"--\", linewidth=0.5)\n",
    "            plt.axvline(0, color='blue',linestyle=\"--\", linewidth=0.5)\n",
    "            plt.show()\n",
    "    except ValueError as e:\n",
    "        print(e)\n",
    "        \n",
    "mca_plot_i(df=coord_i, eigen=mca.L, axe_i=0, axe_j=1, title='Nuage des Individus', figsize=(12, 6))"
   ]
  },
  {
   "cell_type": "markdown",
   "id": "7fa05120",
   "metadata": {},
   "source": [
    "### Nuage des Modalités"
   ]
  },
  {
   "cell_type": "code",
   "execution_count": 101,
   "id": "e00e994f",
   "metadata": {},
   "outputs": [
    {
     "data": {
      "image/png": "[encoded data removed]",
      "text/plain": [
       "<Figure size 864x432 with 1 Axes>"
      ]
     },
     "metadata": {
      "needs_background": "light"
     },
     "output_type": "display_data"
    }
   ],
   "source": [
    "coord_j = pd.DataFrame(mca.fs_c(N=percent_eigen.shape[0]), index=tdc.columns, columns=index)\n",
    "mca_plot_i(df=coord_j, eigen=mca.L, axe_i=0, axe_j=1, title='Nuage des Modalités', figsize=(12, 6))"
   ]
  },
  {
   "cell_type": "markdown",
   "id": "45684fff",
   "metadata": {},
   "source": [
    "### Représentation simultanée"
   ]
  },
  {
   "cell_type": "code",
   "execution_count": 103,
   "id": "a9b84142",
   "metadata": {},
   "outputs": [
    {
     "data": {
      "image/png": "[encoded data removed]",
      "text/plain": [
       "<Figure size 1440x720 with 3 Axes>"
      ]
     },
     "metadata": {
      "needs_background": "light"
     },
     "output_type": "display_data"
    }
   ],
   "source": [
    "def biplot(df1, df2, eigen, axe_i, axe_j, title, figsize=None):\n",
    "    try:\n",
    "        if axe_i==axe_j:\n",
    "            raise ValueError('Erreur: axei doit être différent de axej.')\n",
    "        elif axe_i>axe_j:\n",
    "            raise ValueError('Erreur: axei doit être inférieur à axej.')\n",
    "        elif axe_i<0 or axe_j<0:\n",
    "            msg = 'Erreur: les valeurs des axes doivent être positives ou nulles.'\n",
    "            raise ValueError(msg)\n",
    "        else:\n",
    "            n, p = df1.shape[0], df2.shape[0]\n",
    "            percent = np.array([100*x/sum(eigen) for x in eigen])\n",
    "            dim_i, dim_j = round(percent[axe_i],2), round(percent[axe_j],2)\n",
    "            \n",
    "            # Biplot\n",
    "            fig = plt.figure(figsize=figsize)\n",
    "            axes1 = fig.add_subplot(111)\n",
    "            axes2 = axes1.twiny()\n",
    "            axes2 = axes2.twinx()\n",
    "            axes1.grid()\n",
    "            axes2.axis([-1.5,1.5,-1.5,1.5])\n",
    "            axes1.axis([-1.5,1.5,-1.5,1.5])\n",
    "            axes1.set_title(title)\n",
    "            axes1.set_xlabel(f\"Dim.{1+axe_i} ({dim_i}%)\")\n",
    "            axes1.set_ylabel(f\"Dim.{1+axe_j} ({dim_j}%)\")\n",
    "            \n",
    "            # Affichage des individus\n",
    "            for i in range(n):\n",
    "                axes1.scatter(df1.iloc[i,0], df1.iloc[i,1], c = \"blue\",alpha = 1,marker=\"^\")\n",
    "                axes1.text(df1.iloc[i,0]-0.10,df1.iloc[i,1]+0.01, df1.index[i],color = \"blue\", fontsize=12)\n",
    "                \n",
    "            # Affichage des modalités\n",
    "            for k in range(p):\n",
    "                axes2.scatter(df2.iloc[k,0], df2.iloc[k,1], color='red', alpha=1, marker=\"s\")\n",
    "                axes2.text(df2.iloc[k,0]-0.10, df2.iloc[k,1]+0.01, df2.index[k], color = \"red\", fontsize=12)\n",
    "            plt.axhline(0, color='blue',linestyle=\"--\", linewidth=0.5)\n",
    "            plt.axvline(0, color='blue',linestyle=\"--\", linewidth=0.5)\n",
    "            plt.show()\n",
    "    except ValueError as e:\n",
    "        print(e)\n",
    "        \n",
    "biplot(df1=coord_i, df2=coord_j, eigen=mca.L, axe_i=0, axe_j=1, title='Biplot', figsize=(20, 10))"
   ]
  },
  {
   "cell_type": "markdown",
   "id": "fc5a5eb4",
   "metadata": {},
   "source": [
    "***L'axe 1 oppose les chiens de petites tailles et affectueux au chien de grandes tailles, rapides et aggressifs.<br>L’axe 2 oppose les chiens de taille moyenne, très intelligents à des chiens très lents et peu intelligents.***"
   ]
  },
  {
   "cell_type": "code",
   "execution_count": null,
   "id": "589ab201",
   "metadata": {},
   "outputs": [],
   "source": []
  }
 ],
 "metadata": {
  "kernelspec": {
   "display_name": "Python 3 (ipykernel)",
   "language": "python",
   "name": "python3"
  },
  "language_info": {
   "codemirror_mode": {
    "name": "ipython",
    "version": 3
   },
   "file_extension": ".py",
   "mimetype": "text/x-python",
   "name": "python",
   "nbconvert_exporter": "python",
   "pygments_lexer": "ipython3",
   "version": "3.9.12"
  }
 },
 "nbformat": 4,
 "nbformat_minor": 5
}
